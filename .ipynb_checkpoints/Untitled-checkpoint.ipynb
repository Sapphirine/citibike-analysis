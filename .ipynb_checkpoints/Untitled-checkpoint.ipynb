{
 "cells": [
  {
   "cell_type": "markdown",
   "metadata": {},
   "source": [
    "# Advanced Big Data Analytics\n",
    "## Final Project Proposal\n",
    "\n",
    "## NYC CitiBike System Data Analysis\n",
    "\n",
    "Bahul Jain - bkj2111  \n",
    "Gaurang Sadekar - gss2147\n",
    "\n",
    "### Proposal\n",
    "\n",
    "We will be working with [CitiBike Data](https://www.citibikenyc.com/system-data)\n",
    "and perform different types of analysis to understand Citi bike usage and trips across different areas of New York City. We will also use this data to build prediction models which give insight into the usage of Citi bikes in relation to external factors.\n",
    "\n",
    "#### Goals:\n",
    "\n",
    "1. Create a visualization showing the favorite neighborhoods based on trip information of CitiBike users.\n",
    "  - Estimating the requirement of bike stations in neighborhoods.\n",
    "  - Most common rides each month (by station and by neighborhoods)\n",
    "  - Estimating deficiency or surplus of bikes in neighborhoods based on usage statistics (available bikes and used bikes).\n",
    "\n",
    "2. Creating a Regression Model to correlate weather (daily average temperature, precipitation, snow depth) impact on CitiBike activity and forecast future usage.\n",
    "\n",
    "### Data\n",
    "The data we will be working with is publicly available for use at [CitiBike Data](https://www.citibikenyc.com/system-d  ata).  \n",
    "CitiBike Trip data includes the following fields:\n",
    "- Trip Duration (seconds)\n",
    "- Start Time and Date\n",
    "- Stop Time and Date\n",
    "- Start Station Name\n",
    "- End Station Name\n",
    "- Station ID\n",
    "- Station Lat/Long\n",
    "- Bike ID\n",
    "- User Type (Customer = 24-hour pass or 7-day pass user; Subscriber = Annual Member)\n",
    "- Gender (Zero=unknown; 1=male; 2=female)\n",
    "- Year of Birth\n",
    "\n",
    "This is data is clean and anonymized for user privacy, and does not include any sensitive information about the riders themselves.  \n",
    "\n",
    "The system data also includes CitiBike membership data, which has rich per day information about memberships, ride numbers and ride durations.\n",
    "\n",
    "### Tools:\n",
    "\n",
    "1. Spark\n",
    "2. MLlib\n",
    "3. Language Choice: Python/Scala\n",
    "4. Statsmodels / Scikit-Learn for Prediction tasks\n",
    "4. Google Geocoding API\n",
    "\n",
    "### Data Sources:\n",
    "\n",
    "1. [CitiBike Data](https://www.citibikenyc.com/system-data)\n",
    "2. [National Climatic Data Center](https://www.ncdc.noaa.gov/cdo-web/datasets/GHCND/stations/GHCND:USW00094728/detail)\n"
   ]
  }
 ],
 "metadata": {
  "kernelspec": {
   "display_name": "Python 2",
   "language": "python",
   "name": "python2"
  },
  "language_info": {
   "codemirror_mode": {
    "name": "ipython",
    "version": 2
   },
   "file_extension": ".py",
   "mimetype": "text/x-python",
   "name": "python",
   "nbconvert_exporter": "python",
   "pygments_lexer": "ipython2",
   "version": "2.7.10"
  }
 },
 "nbformat": 4,
 "nbformat_minor": 0
}
