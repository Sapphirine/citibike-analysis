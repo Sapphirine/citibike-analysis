{
 "cells": [
  {
   "cell_type": "markdown",
   "metadata": {},
   "source": [
    "# Area Extractor\n",
    "\n",
    "Here we obtain the area and neighborhood information of each citibike station in the City of New York. To obtain this information the StreetEasy API (Area by Location) has been used."
   ]
  },
  {
   "cell_type": "code",
   "execution_count": 1,
   "metadata": {
    "collapsed": false
   },
   "outputs": [],
   "source": [
    "import json\n",
    "import csv\n",
    "import pandas as pd\n",
    "import requests\n",
    "import pickle\n",
    "from pandas.io.json import json_normalize"
   ]
  },
  {
   "cell_type": "code",
   "execution_count": 2,
   "metadata": {
    "collapsed": false
   },
   "outputs": [],
   "source": [
    "f = open('stations.json', 'r')\n",
    "stations_json = json.loads(f.read())\n",
    "stations_full = json_normalize(stations_json['stationBeanList'])"
   ]
  },
  {
   "cell_type": "code",
   "execution_count": 3,
   "metadata": {
    "collapsed": false
   },
   "outputs": [
    {
     "data": {
      "text/plain": [
       "Index([u'altitude', u'availableBikes', u'availableDocks', u'city', u'id', u'landMark', u'lastCommunicationTime', u'latitude', u'location', u'longitude', u'postalCode', u'stAddress1', u'stAddress2', u'stationName', u'statusKey', u'statusValue', u'testStation', u'totalDocks'], dtype='object')"
      ]
     },
     "execution_count": 3,
     "metadata": {},
     "output_type": "execute_result"
    }
   ],
   "source": [
    "stations_full.columns"
   ]
  },
  {
   "cell_type": "code",
   "execution_count": 4,
   "metadata": {
    "collapsed": false
   },
   "outputs": [
    {
     "data": {
      "text/plain": [
       "id             508\n",
       "latitude       508\n",
       "longitude      508\n",
       "stationName    508\n",
       "dtype: int64"
      ]
     },
     "execution_count": 4,
     "metadata": {},
     "output_type": "execute_result"
    }
   ],
   "source": [
    "stations = stations_full[['id', 'latitude', 'longitude', 'stationName']]\n",
    "stations.count()"
   ]
  },
  {
   "cell_type": "code",
   "execution_count": 7,
   "metadata": {
    "collapsed": false
   },
   "outputs": [
    {
     "data": {
      "text/html": [
       "<div style=\"max-height:1000px;max-width:1500px;overflow:auto;\">\n",
       "<table border=\"1\" class=\"dataframe\">\n",
       "  <thead>\n",
       "    <tr style=\"text-align: right;\">\n",
       "      <th></th>\n",
       "      <th>id</th>\n",
       "      <th>latitude</th>\n",
       "      <th>longitude</th>\n",
       "      <th>stationName</th>\n",
       "    </tr>\n",
       "  </thead>\n",
       "  <tbody>\n",
       "    <tr>\n",
       "      <th>0</th>\n",
       "      <td>  72</td>\n",
       "      <td> 40.767272</td>\n",
       "      <td>-73.993929</td>\n",
       "      <td>              W 52 St &amp; 11 Ave</td>\n",
       "    </tr>\n",
       "    <tr>\n",
       "      <th>1</th>\n",
       "      <td>  79</td>\n",
       "      <td> 40.719116</td>\n",
       "      <td>-74.006667</td>\n",
       "      <td>      Franklin St &amp; W Broadway</td>\n",
       "    </tr>\n",
       "    <tr>\n",
       "      <th>2</th>\n",
       "      <td>  82</td>\n",
       "      <td> 40.711174</td>\n",
       "      <td>-74.000165</td>\n",
       "      <td>        St James Pl &amp; Pearl St</td>\n",
       "    </tr>\n",
       "    <tr>\n",
       "      <th>3</th>\n",
       "      <td>  83</td>\n",
       "      <td> 40.683826</td>\n",
       "      <td>-73.976323</td>\n",
       "      <td> Atlantic Ave &amp; Fort Greene Pl</td>\n",
       "    </tr>\n",
       "    <tr>\n",
       "      <th>4</th>\n",
       "      <td> 116</td>\n",
       "      <td> 40.741776</td>\n",
       "      <td>-74.001497</td>\n",
       "      <td>               W 17 St &amp; 8 Ave</td>\n",
       "    </tr>\n",
       "  </tbody>\n",
       "</table>\n",
       "</div>"
      ],
      "text/plain": [
       "    id   latitude  longitude                    stationName\n",
       "0   72  40.767272 -73.993929               W 52 St & 11 Ave\n",
       "1   79  40.719116 -74.006667       Franklin St & W Broadway\n",
       "2   82  40.711174 -74.000165         St James Pl & Pearl St\n",
       "3   83  40.683826 -73.976323  Atlantic Ave & Fort Greene Pl\n",
       "4  116  40.741776 -74.001497                W 17 St & 8 Ave"
      ]
     },
     "execution_count": 7,
     "metadata": {},
     "output_type": "execute_result"
    }
   ],
   "source": [
    "stations.head()"
   ]
  },
  {
   "cell_type": "code",
   "execution_count": 21,
   "metadata": {
    "collapsed": true
   },
   "outputs": [],
   "source": [
    "streetEasy_key1 = 'a00fc395e74bd46ece55d52b98b783445bcf2acc'\n",
    "streetEasy_key2 = '615e0d6b82f9198a3b690baf51383e58b978f635'\n",
    "streetEasy_key3 = 'fd0c7be4a56199306a34118253c55c580c5d04ca'\n",
    "streetEasy_key4 = 'aac52f8de6deb59c4ac946347f5a0e7b2003f50d'\n",
    "streetEasy_key5 = '8778d47f2bc849f2b6d6d0388cd4280382908578'\n",
    "streetEasy_key6 = 'a1c1df657e16669aade950d84e1e5047fc850daf'\n",
    "streetEasy_key7 = 'f2634896e8b6fd2071d6387d464fe762c3a20d13'"
   ]
  },
  {
   "cell_type": "markdown",
   "metadata": {},
   "source": [
    "**get_area(row, streetEasy_key) Function**\n",
    "1. API call made to StreetEasy using the streetEasy_key.\n",
    "2. Area and Neighborhood information obtained based on the latitude and longitude of the station.\n",
    "3. Append the information to the table."
   ]
  },
  {
   "cell_type": "code",
   "execution_count": 35,
   "metadata": {
    "collapsed": false
   },
   "outputs": [],
   "source": [
    "def get_area(row, streetEasy_key):\n",
    "    lat = row['latitude']\n",
    "    lon = row['longitude']\n",
    "    try:\n",
    "        url = 'http://streeteasy.com/nyc/api/areas/for_location?lon=' + \\\n",
    "                        `lon` + '&lat=' + `lat` + '&key=' + streetEasy_key + '&format=json'\n",
    "        response = requests.get(url)\n",
    "        neibs = response.json()\n",
    "        row['city'] = neibs['city']\n",
    "        row['neighborhood'] = neibs['subtitle'][3:]\n",
    "        row['neighborhood_id'] = neibs['parent_id']\n",
    "        row['area'] = neibs['name']\n",
    "        row['area_id'] = neibs['id']\n",
    "    except:\n",
    "        row['city'] = \"-\"\n",
    "        row['neighborhood'] = \"-\"\n",
    "        row['neighborhood_id'] = -1\n",
    "        row['area'] = \"-\"\n",
    "        row['area_id'] = -1\n",
    "    print `row['id']` + '\\t' + `row['stationName']` + '\\t' + `row['area']`\n",
    "    return row"
   ]
  },
  {
   "cell_type": "code",
   "execution_count": null,
   "metadata": {
    "collapsed": false,
    "scrolled": true
   },
   "outputs": [],
   "source": [
    "augmented_stations1 = stations[0:90].apply(lambda row : get_area(row, streetEasy_key2), axis=1)\n",
    "augmented_stations2 = stations[90:180].apply(lambda row : get_area(row, streetEasy_key3), axis=1)\n",
    "augmented_stations3 = stations[180:270].apply(lambda row : get_area(row, streetEasy_key4), axis=1)\n",
    "augmented_stations4 = stations[270:360].apply(lambda row : get_area(row, streetEasy_key5), axis=1)\n",
    "augmented_stations5 = stations[360:450].apply(lambda row : get_area(row, streetEasy_key6), axis=1)\n",
    "augmented_stations6 = stations[450:490].apply(lambda row : get_area(row, streetEasy_key7), axis=1)\n",
    "augmented_stations7 = stations[490:495].apply(lambda row : get_area(row, streetEasy_key2), axis=1)\n",
    "augmented_stations8 = stations[495:500].apply(lambda row : get_area(row, streetEasy_key3), axis=1)\n",
    "augmented_stations9 = stations[500:506].apply(lambda row : get_area(row, streetEasy_key4), axis=1)\n",
    "augmented_stations10 = stations[506:].apply(lambda row : get_area(row, streetEasy_key6), axis=1)"
   ]
  },
  {
   "cell_type": "code",
   "execution_count": 46,
   "metadata": {
    "collapsed": true
   },
   "outputs": [],
   "source": [
    "# Final dataset with neighborhoods information of all stations\n",
    "\n",
    "augmented_stations = pd.concat([augmented_stations1, augmented_stations2, augmented_stations3, \\\n",
    "                                    augmented_stations4, augmented_stations5, augmented_stations6, \\\n",
    "                                    augmented_stations7, augmented_stations8, augmented_stations9, \\\n",
    "                                    augmented_stations10])"
   ]
  },
  {
   "cell_type": "code",
   "execution_count": 39,
   "metadata": {
    "collapsed": false
   },
   "outputs": [
    {
     "data": {
      "text/plain": [
       "id                 508\n",
       "latitude           508\n",
       "longitude          508\n",
       "stationName        508\n",
       "city               508\n",
       "neighborhood       508\n",
       "neighborhood_id    508\n",
       "area               508\n",
       "area_id            508\n",
       "dtype: int64"
      ]
     },
     "execution_count": 39,
     "metadata": {},
     "output_type": "execute_result"
    }
   ],
   "source": [
    "augmented_stations.count()"
   ]
  },
  {
   "cell_type": "markdown",
   "metadata": {},
   "source": [
    "**Dumping this table into a pickle file**"
   ]
  },
  {
   "cell_type": "code",
   "execution_count": 43,
   "metadata": {
    "collapsed": false
   },
   "outputs": [],
   "source": [
    "pckl_file = open('augmented_stations.pickle', 'wb')\n",
    "pickle.dump(augmented_stations, pckl_file)\n",
    "pckl_file.close()"
   ]
  },
  {
   "cell_type": "markdown",
   "metadata": {},
   "source": [
    "**Loading table from the pickle file**"
   ]
  },
  {
   "cell_type": "code",
   "execution_count": 44,
   "metadata": {
    "collapsed": false
   },
   "outputs": [],
   "source": [
    "augmented_stations_pickle = pickle.load(open('augmented_stations.pickle', 'rb'))"
   ]
  },
  {
   "cell_type": "code",
   "execution_count": 45,
   "metadata": {
    "collapsed": false
   },
   "outputs": [
    {
     "data": {
      "text/plain": [
       "id                 508\n",
       "latitude           508\n",
       "longitude          508\n",
       "stationName        508\n",
       "city               508\n",
       "neighborhood       508\n",
       "neighborhood_id    508\n",
       "area               508\n",
       "area_id            508\n",
       "dtype: int64"
      ]
     },
     "execution_count": 45,
     "metadata": {},
     "output_type": "execute_result"
    }
   ],
   "source": [
    "augmented_stations_pickle.count()"
   ]
  }
 ],
 "metadata": {
  "kernelspec": {
   "display_name": "Python 2",
   "language": "python",
   "name": "python2"
  },
  "language_info": {
   "codemirror_mode": {
    "name": "ipython",
    "version": 2
   },
   "file_extension": ".py",
   "mimetype": "text/x-python",
   "name": "python",
   "nbconvert_exporter": "python",
   "pygments_lexer": "ipython2",
   "version": "2.7.10"
  }
 },
 "nbformat": 4,
 "nbformat_minor": 0
}
