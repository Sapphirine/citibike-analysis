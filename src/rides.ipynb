{
 "cells": [
  {
   "cell_type": "markdown",
   "metadata": {},
   "source": [
    "# Rides\n",
    "\n",
    "Here is where we do analysis on all the trip data of Citibikes."
   ]
  },
  {
   "cell_type": "code",
   "execution_count": 118,
   "metadata": {
    "collapsed": true
   },
   "outputs": [],
   "source": [
    "import pandas as pd\n",
    "import pickle\n",
    "\n",
    "import matplotlib\n",
    "%matplotlib inline\n",
    "import matplotlib.pyplot as plt"
   ]
  },
  {
   "cell_type": "markdown",
   "metadata": {},
   "source": [
    "## Loading the stations data"
   ]
  },
  {
   "cell_type": "code",
   "execution_count": 161,
   "metadata": {
    "collapsed": false
   },
   "outputs": [],
   "source": [
    "class Stations:\n",
    "    def __init__(self, path):\n",
    "        self.stations = pickle.load(open(path, \"rb\"))\n",
    "       \n",
    "    # Returns the row that holds information about station that has given station_id\n",
    "    def get_by_id(self, station_id):\n",
    "        res = self.stations[self.stations.id == station_id]\n",
    "        if res.empty:\n",
    "            raise Exception('Empty Result')\n",
    "        else:\n",
    "            return res\n",
    "    \n",
    "    # returns all the stations ids as a list\n",
    "    def get_ids(self):\n",
    "        return self.stations.id\n",
    "    \n",
    "    # returns the head of the table\n",
    "    def head(self, count=5):\n",
    "        return self.stations.head(count)\n",
    "    \n",
    "    # returns a DataFrame that contain all the unique areas and their respective area_id\n",
    "    def get_areas(self):\n",
    "        return self.stations[[\"area\", \"area_id\"]].drop_duplicates()[:-1]\n",
    "    \n",
    "    # returns the entire DataFrame as it is\n",
    "    def get_stations(self):\n",
    "        self.stations"
   ]
  },
  {
   "cell_type": "code",
   "execution_count": 141,
   "metadata": {
    "collapsed": true
   },
   "outputs": [],
   "source": [
    "stations = Stations(\"../data/augmented_stations.pickle\")"
   ]
  },
  {
   "cell_type": "code",
   "execution_count": 142,
   "metadata": {
    "collapsed": false
   },
   "outputs": [
    {
     "data": {
      "text/html": [
       "<div style=\"max-height:1000px;max-width:1500px;overflow:auto;\">\n",
       "<table border=\"1\" class=\"dataframe\">\n",
       "  <thead>\n",
       "    <tr style=\"text-align: right;\">\n",
       "      <th></th>\n",
       "      <th>id</th>\n",
       "      <th>latitude</th>\n",
       "      <th>longitude</th>\n",
       "      <th>stationName</th>\n",
       "      <th>city</th>\n",
       "      <th>neighborhood</th>\n",
       "      <th>neighborhood_id</th>\n",
       "      <th>area</th>\n",
       "      <th>area_id</th>\n",
       "    </tr>\n",
       "  </thead>\n",
       "  <tbody>\n",
       "    <tr>\n",
       "      <th>0</th>\n",
       "      <td>  72</td>\n",
       "      <td> 40.767272</td>\n",
       "      <td>-73.993929</td>\n",
       "      <td>              W 52 St &amp; 11 Ave</td>\n",
       "      <td> New York</td>\n",
       "      <td>  All Midtown</td>\n",
       "      <td> 119</td>\n",
       "      <td> Midtown West</td>\n",
       "      <td> 124</td>\n",
       "    </tr>\n",
       "    <tr>\n",
       "      <th>1</th>\n",
       "      <td>  79</td>\n",
       "      <td> 40.719116</td>\n",
       "      <td>-74.006667</td>\n",
       "      <td>      Franklin St &amp; W Broadway</td>\n",
       "      <td> New York</td>\n",
       "      <td> All Downtown</td>\n",
       "      <td> 102</td>\n",
       "      <td>      Tribeca</td>\n",
       "      <td> 105</td>\n",
       "    </tr>\n",
       "    <tr>\n",
       "      <th>2</th>\n",
       "      <td>  82</td>\n",
       "      <td> 40.711174</td>\n",
       "      <td>-74.000165</td>\n",
       "      <td>        St James Pl &amp; Pearl St</td>\n",
       "      <td> New York</td>\n",
       "      <td>    Chinatown</td>\n",
       "      <td> 110</td>\n",
       "      <td>  Two Bridges</td>\n",
       "      <td> 111</td>\n",
       "    </tr>\n",
       "    <tr>\n",
       "      <th>3</th>\n",
       "      <td>  83</td>\n",
       "      <td> 40.683826</td>\n",
       "      <td>-73.976323</td>\n",
       "      <td> Atlantic Ave &amp; Fort Greene Pl</td>\n",
       "      <td> Brooklyn</td>\n",
       "      <td>     Brooklyn</td>\n",
       "      <td> 300</td>\n",
       "      <td>  Fort Greene</td>\n",
       "      <td> 304</td>\n",
       "    </tr>\n",
       "    <tr>\n",
       "      <th>4</th>\n",
       "      <td> 116</td>\n",
       "      <td> 40.741776</td>\n",
       "      <td>-74.001497</td>\n",
       "      <td>               W 17 St &amp; 8 Ave</td>\n",
       "      <td> New York</td>\n",
       "      <td> All Downtown</td>\n",
       "      <td> 102</td>\n",
       "      <td>      Chelsea</td>\n",
       "      <td> 115</td>\n",
       "    </tr>\n",
       "  </tbody>\n",
       "</table>\n",
       "</div>"
      ],
      "text/plain": [
       "    id   latitude  longitude                    stationName      city  \\\n",
       "0   72  40.767272 -73.993929               W 52 St & 11 Ave  New York   \n",
       "1   79  40.719116 -74.006667       Franklin St & W Broadway  New York   \n",
       "2   82  40.711174 -74.000165         St James Pl & Pearl St  New York   \n",
       "3   83  40.683826 -73.976323  Atlantic Ave & Fort Greene Pl  Brooklyn   \n",
       "4  116  40.741776 -74.001497                W 17 St & 8 Ave  New York   \n",
       "\n",
       "   neighborhood  neighborhood_id          area  area_id  \n",
       "0   All Midtown              119  Midtown West      124  \n",
       "1  All Downtown              102       Tribeca      105  \n",
       "2     Chinatown              110   Two Bridges      111  \n",
       "3      Brooklyn              300   Fort Greene      304  \n",
       "4  All Downtown              102       Chelsea      115  "
      ]
     },
     "execution_count": 142,
     "metadata": {},
     "output_type": "execute_result"
    }
   ],
   "source": [
    "stations.head()"
   ]
  },
  {
   "cell_type": "markdown",
   "metadata": {},
   "source": [
    "\n",
    "## Loading Sample Citibike Trip Data"
   ]
  },
  {
   "cell_type": "code",
   "execution_count": 143,
   "metadata": {
    "collapsed": true
   },
   "outputs": [],
   "source": [
    "trip_data = pd.read_csv(\"../data/trip-data/201509-citibike-tripdata.csv\")"
   ]
  },
  {
   "cell_type": "code",
   "execution_count": 144,
   "metadata": {
    "collapsed": false
   },
   "outputs": [
    {
     "data": {
      "text/plain": [
       "Index([u'tripduration', u'starttime', u'stoptime', u'start station id', u'start station name', u'start station latitude', u'start station longitude', u'end station id', u'end station name', u'end station latitude', u'end station longitude', u'bikeid', u'usertype', u'birth year', u'gender'], dtype='object')"
      ]
     },
     "execution_count": 144,
     "metadata": {},
     "output_type": "execute_result"
    }
   ],
   "source": [
    "trip_data.columns"
   ]
  },
  {
   "cell_type": "markdown",
   "metadata": {},
   "source": [
    "## Obtain the Popular Stations"
   ]
  },
  {
   "cell_type": "markdown",
   "metadata": {},
   "source": [
    "This includes the number of times a station was either the source or destination in a trip taken."
   ]
  },
  {
   "cell_type": "code",
   "execution_count": 162,
   "metadata": {
    "collapsed": false
   },
   "outputs": [],
   "source": [
    "# Number of times a station was the start station. Holds a dict with the station_id\n",
    "# as its key and the number of times the station was the starting point of the trip\n",
    "# as the value.\n",
    "station_outgoing = trip_data.groupby(\"start station id\").size().to_dict()\n",
    "\n",
    "# Number of times a station was the end station. Again a dict similar to above.\n",
    "station_incoming = trip_data.groupby(\"end station id\").size().to_dict()"
   ]
  },
  {
   "cell_type": "markdown",
   "metadata": {},
   "source": [
    "**create an interface to access traffic count in data, given the id**"
   ]
  },
  {
   "cell_type": "code",
   "execution_count": 146,
   "metadata": {
    "collapsed": false
   },
   "outputs": [],
   "source": [
    "def get_traffic(data, id):\n",
    "    return data[id] if id in data else 0"
   ]
  },
  {
   "cell_type": "code",
   "execution_count": 147,
   "metadata": {
    "collapsed": false
   },
   "outputs": [
    {
     "data": {
      "text/plain": [
       "7977"
      ]
     },
     "execution_count": 147,
     "metadata": {},
     "output_type": "execute_result"
    }
   ],
   "source": [
    "get_traffic(station_outgoing, 3002)"
   ]
  },
  {
   "cell_type": "markdown",
   "metadata": {},
   "source": [
    "**creating final station counts as a python dict**"
   ]
  },
  {
   "cell_type": "code",
   "execution_count": 164,
   "metadata": {
    "collapsed": false
   },
   "outputs": [],
   "source": [
    "station_traffic = dict()\n",
    "\n",
    "for station_id in stations.get_ids():\n",
    "    station_traffic[station_id] = get_traffic(station_outgoing, station_id) + \\\n",
    "                                  get_traffic(station_incoming, station_id)"
   ]
  },
  {
   "cell_type": "markdown",
   "metadata": {},
   "source": [
    "**obtaining the popular stations by sorting the dict based on the total traffic at the station**"
   ]
  },
  {
   "cell_type": "code",
   "execution_count": 150,
   "metadata": {
    "collapsed": false
   },
   "outputs": [],
   "source": [
    "popular_stations = sorted(station_traffic, key= lambda e: station_traffic[e], reverse=True)"
   ]
  },
  {
   "cell_type": "code",
   "execution_count": 166,
   "metadata": {
    "collapsed": false
   },
   "outputs": [
    {
     "name": "stdout",
     "output_type": "stream",
     "text": [
      "521, 8 Ave & W 31 St : 26798\n",
      "519, Pershing Square North : 25930\n",
      "293, Lafayette St & E 8 St : 22722\n",
      "426, West St & Chambers St : 21267\n",
      "435, W 21 St & 6 Ave : 20679\n",
      "497, E 17 St & Broadway : 20625\n",
      "151, Cleveland Pl & Spring St : 18298\n",
      "285, Broadway & E 14 St : 18135\n",
      "368, Carmine St & 6 Ave : 16945\n",
      "284, Greenwich Ave & 8 Ave : 16662\n"
     ]
    }
   ],
   "source": [
    "for station_id in popular_stations[:10]:\n",
    "    info = stations.get_by_id(station_id=station_id)\n",
    "    station_name = info.stationName.item()\n",
    "    print `station_id` + \", \" + station_name + \" : \" + `station_traffic[station_id]`"
   ]
  },
  {
   "cell_type": "code",
   "execution_count": 167,
   "metadata": {
    "collapsed": false
   },
   "outputs": [
    {
     "data": {
      "text/plain": [
       "<Container object of 508 artists>"
      ]
     },
     "execution_count": 167,
     "metadata": {},
     "output_type": "execute_result"
    },
    {
     "data": {
      "image/png": "[encoded data removed]",
      "text/plain": [
       "<matplotlib.figure.Figure at 0x7f1419a3c750>"
      ]
     },
     "metadata": {},
     "output_type": "display_data"
    }
   ],
   "source": [
    "plt.bar(range(len(popular_stations)), [station_traffic[id] for id in popular_stations])"
   ]
  },
  {
   "cell_type": "markdown",
   "metadata": {},
   "source": [
    "## Obtain the Popular Areas"
   ]
  },
  {
   "cell_type": "markdown",
   "metadata": {},
   "source": [
    "Since we have already found out the traffic at every station, we will use that data to obtain the traffic for every area, which is nothing but the sum of traffic of all the stations in the area."
   ]
  },
  {
   "cell_type": "code",
   "execution_count": 169,
   "metadata": {
    "collapsed": false
   },
   "outputs": [],
   "source": [
    "def get_area_traffic(station_traffic):\n",
    "    area_traffic = dict()\n",
    "    for station_id in station_traffic.keys():\n",
    "        try:\n",
    "            info = stations.get_by_id(station_id)\n",
    "            area_id = info.area_id.item()\n",
    "\n",
    "            if area_id not in area_traffic:\n",
    "                area_traffic[area_id] = station_traffic[station_id]\n",
    "            else:\n",
    "                area_traffic[area_id] += station_traffic[station_id] \n",
    "        except:\n",
    "            pass\n",
    "    \n",
    "    return area_traffic"
   ]
  },
  {
   "cell_type": "code",
   "execution_count": 170,
   "metadata": {
    "collapsed": false
   },
   "outputs": [],
   "source": [
    "area_outgoing = get_area_traffic(station_outgoing)\n",
    "area_incoming = get_area_traffic(station_incoming)"
   ]
  },
  {
   "cell_type": "code",
   "execution_count": 171,
   "metadata": {
    "collapsed": false
   },
   "outputs": [
    {
     "data": {
      "text/html": [
       "<div style=\"max-height:1000px;max-width:1500px;overflow:auto;\">\n",
       "<table border=\"1\" class=\"dataframe\">\n",
       "  <thead>\n",
       "    <tr style=\"text-align: right;\">\n",
       "      <th></th>\n",
       "      <th>area</th>\n",
       "      <th>area_id</th>\n",
       "    </tr>\n",
       "  </thead>\n",
       "  <tbody>\n",
       "    <tr>\n",
       "      <th>0</th>\n",
       "      <td> Midtown West</td>\n",
       "      <td> 124</td>\n",
       "    </tr>\n",
       "    <tr>\n",
       "      <th>1</th>\n",
       "      <td>      Tribeca</td>\n",
       "      <td> 105</td>\n",
       "    </tr>\n",
       "    <tr>\n",
       "      <th>2</th>\n",
       "      <td>  Two Bridges</td>\n",
       "      <td> 111</td>\n",
       "    </tr>\n",
       "    <tr>\n",
       "      <th>3</th>\n",
       "      <td>  Fort Greene</td>\n",
       "      <td> 304</td>\n",
       "    </tr>\n",
       "    <tr>\n",
       "      <th>4</th>\n",
       "      <td>      Chelsea</td>\n",
       "      <td> 115</td>\n",
       "    </tr>\n",
       "  </tbody>\n",
       "</table>\n",
       "</div>"
      ],
      "text/plain": [
       "           area  area_id\n",
       "0  Midtown West      124\n",
       "1       Tribeca      105\n",
       "2   Two Bridges      111\n",
       "3   Fort Greene      304\n",
       "4       Chelsea      115"
      ]
     },
     "execution_count": 171,
     "metadata": {},
     "output_type": "execute_result"
    }
   ],
   "source": [
    "areas = stations.get_areas()\n",
    "areas.head(5)"
   ]
  },
  {
   "cell_type": "code",
   "execution_count": 173,
   "metadata": {
    "collapsed": false
   },
   "outputs": [],
   "source": [
    "area_traffic = dict()\n",
    "for area_id in areas.area_id:\n",
    "    area_traffic[area_id] = get_traffic(area_incoming, area_id) + \\\n",
    "                            get_traffic(area_outgoing, area_id)"
   ]
  },
  {
   "cell_type": "code",
   "execution_count": 174,
   "metadata": {
    "collapsed": false
   },
   "outputs": [],
   "source": [
    "popular_areas = sorted(area_traffic, key=lambda e: area_traffic[e], reverse=True)"
   ]
  },
  {
   "cell_type": "code",
   "execution_count": 177,
   "metadata": {
    "collapsed": false
   },
   "outputs": [
    {
     "name": "stdout",
     "output_type": "stream",
     "text": [
      "117 East Village 196376\n",
      "124 Midtown West 186607\n",
      "120 Midtown 141882\n",
      "115 Chelsea 140411\n",
      "116 Greenwich Village 125348\n",
      "157 West Village 123568\n",
      "122 Midtown South 116974\n",
      "109 Lower East Side 95789\n",
      "158 Flatiron 95538\n",
      "105 Tribeca 86540\n"
     ]
    }
   ],
   "source": [
    "for area_id in popular_areas[:10]:\n",
    "    info = areas[areas.area_id == area_id]\n",
    "    area_name = info.area.item()\n",
    "    print area_id, area_name, area_traffic[area_id]"
   ]
  },
  {
   "cell_type": "code",
   "execution_count": 159,
   "metadata": {
    "collapsed": false
   },
   "outputs": [
    {
     "data": {
      "text/plain": [
       "<Container object of 65 artists>"
      ]
     },
     "execution_count": 159,
     "metadata": {},
     "output_type": "execute_result"
    },
    {
     "data": {
      "image/png": "[encoded data removed]",
      "text/plain": [
       "<matplotlib.figure.Figure at 0x7f141b8c9950>"
      ]
     },
     "metadata": {},
     "output_type": "display_data"
    }
   ],
   "source": [
    "plt.bar(range(len(popular_areas)), [area_traffic[id] for id in popular_areas])"
   ]
  }
 ],
 "metadata": {
  "kernelspec": {
   "display_name": "Python 2",
   "language": "python",
   "name": "python2"
  },
  "language_info": {
   "codemirror_mode": {
    "name": "ipython",
    "version": 2
   },
   "file_extension": ".py",
   "mimetype": "text/x-python",
   "name": "python",
   "nbconvert_exporter": "python",
   "pygments_lexer": "ipython2",
   "version": "2.7.10"
  }
 },
 "nbformat": 4,
 "nbformat_minor": 0
}
