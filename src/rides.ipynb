{
 "cells": [
  {
   "cell_type": "markdown",
   "metadata": {},
   "source": [
    "# Rides\n",
    "\n",
    "Here is where we do analysis on all the trip data of Citibikes."
   ]
  },
  {
   "cell_type": "code",
   "execution_count": 180,
   "metadata": {
    "collapsed": true
   },
   "outputs": [],
   "source": [
    "import pandas as pd\n",
    "import pickle\n",
    "from collections import defaultdict\n",
    "\n",
    "import matplotlib\n",
    "%matplotlib inline\n",
    "import matplotlib.pyplot as plt"
   ]
  },
  {
   "cell_type": "markdown",
   "metadata": {},
   "source": [
    "### Loading the stations data"
   ]
  },
  {
   "cell_type": "code",
   "execution_count": 210,
   "metadata": {
    "collapsed": true
   },
   "outputs": [],
   "source": [
    "class Stations:\n",
    "    def __init__(self, path):\n",
    "        self.stations = pickle.load(open(path, \"rb\"))\n",
    "        \n",
    "    def get_by_id(self, station_id):\n",
    "        return self.stations[self.stations.id == station_id]\n",
    "    \n",
    "    def head(self, count=5):\n",
    "        return self.stations.head(count)\n",
    "    \n",
    "    def get_areas(self):\n",
    "        return self.stations[[\"area\", \"area_id\"]].drop_duplicates()[:-1]"
   ]
  },
  {
   "cell_type": "code",
   "execution_count": 211,
   "metadata": {
    "collapsed": true
   },
   "outputs": [],
   "source": [
    "stations = Stations(\"../data/augmented_stations.pickle\")"
   ]
  },
  {
   "cell_type": "code",
   "execution_count": 195,
   "metadata": {
    "collapsed": false
   },
   "outputs": [
    {
     "data": {
      "text/html": [
       "<div style=\"max-height:1000px;max-width:1500px;overflow:auto;\">\n",
       "<table border=\"1\" class=\"dataframe\">\n",
       "  <thead>\n",
       "    <tr style=\"text-align: right;\">\n",
       "      <th></th>\n",
       "      <th>id</th>\n",
       "      <th>latitude</th>\n",
       "      <th>longitude</th>\n",
       "      <th>stationName</th>\n",
       "      <th>city</th>\n",
       "      <th>neighborhood</th>\n",
       "      <th>neighborhood_id</th>\n",
       "      <th>area</th>\n",
       "      <th>area_id</th>\n",
       "    </tr>\n",
       "  </thead>\n",
       "  <tbody>\n",
       "    <tr>\n",
       "      <th>0</th>\n",
       "      <td>  72</td>\n",
       "      <td> 40.767272</td>\n",
       "      <td>-73.993929</td>\n",
       "      <td>              W 52 St &amp; 11 Ave</td>\n",
       "      <td> New York</td>\n",
       "      <td>  All Midtown</td>\n",
       "      <td> 119</td>\n",
       "      <td> Midtown West</td>\n",
       "      <td> 124</td>\n",
       "    </tr>\n",
       "    <tr>\n",
       "      <th>1</th>\n",
       "      <td>  79</td>\n",
       "      <td> 40.719116</td>\n",
       "      <td>-74.006667</td>\n",
       "      <td>      Franklin St &amp; W Broadway</td>\n",
       "      <td> New York</td>\n",
       "      <td> All Downtown</td>\n",
       "      <td> 102</td>\n",
       "      <td>      Tribeca</td>\n",
       "      <td> 105</td>\n",
       "    </tr>\n",
       "    <tr>\n",
       "      <th>2</th>\n",
       "      <td>  82</td>\n",
       "      <td> 40.711174</td>\n",
       "      <td>-74.000165</td>\n",
       "      <td>        St James Pl &amp; Pearl St</td>\n",
       "      <td> New York</td>\n",
       "      <td>    Chinatown</td>\n",
       "      <td> 110</td>\n",
       "      <td>  Two Bridges</td>\n",
       "      <td> 111</td>\n",
       "    </tr>\n",
       "    <tr>\n",
       "      <th>3</th>\n",
       "      <td>  83</td>\n",
       "      <td> 40.683826</td>\n",
       "      <td>-73.976323</td>\n",
       "      <td> Atlantic Ave &amp; Fort Greene Pl</td>\n",
       "      <td> Brooklyn</td>\n",
       "      <td>     Brooklyn</td>\n",
       "      <td> 300</td>\n",
       "      <td>  Fort Greene</td>\n",
       "      <td> 304</td>\n",
       "    </tr>\n",
       "    <tr>\n",
       "      <th>4</th>\n",
       "      <td> 116</td>\n",
       "      <td> 40.741776</td>\n",
       "      <td>-74.001497</td>\n",
       "      <td>               W 17 St &amp; 8 Ave</td>\n",
       "      <td> New York</td>\n",
       "      <td> All Downtown</td>\n",
       "      <td> 102</td>\n",
       "      <td>      Chelsea</td>\n",
       "      <td> 115</td>\n",
       "    </tr>\n",
       "  </tbody>\n",
       "</table>\n",
       "</div>"
      ],
      "text/plain": [
       "    id   latitude  longitude                    stationName      city  \\\n",
       "0   72  40.767272 -73.993929               W 52 St & 11 Ave  New York   \n",
       "1   79  40.719116 -74.006667       Franklin St & W Broadway  New York   \n",
       "2   82  40.711174 -74.000165         St James Pl & Pearl St  New York   \n",
       "3   83  40.683826 -73.976323  Atlantic Ave & Fort Greene Pl  Brooklyn   \n",
       "4  116  40.741776 -74.001497                W 17 St & 8 Ave  New York   \n",
       "\n",
       "   neighborhood  neighborhood_id          area  area_id  \n",
       "0   All Midtown              119  Midtown West      124  \n",
       "1  All Downtown              102       Tribeca      105  \n",
       "2     Chinatown              110   Two Bridges      111  \n",
       "3      Brooklyn              300   Fort Greene      304  \n",
       "4  All Downtown              102       Chelsea      115  "
      ]
     },
     "execution_count": 195,
     "metadata": {},
     "output_type": "execute_result"
    }
   ],
   "source": [
    "stations.head()"
   ]
  },
  {
   "cell_type": "code",
   "execution_count": 174,
   "metadata": {
    "collapsed": false
   },
   "outputs": [
    {
     "data": {
      "text/html": [
       "<div style=\"max-height:1000px;max-width:1500px;overflow:auto;\">\n",
       "<table border=\"1\" class=\"dataframe\">\n",
       "  <thead>\n",
       "    <tr style=\"text-align: right;\">\n",
       "      <th></th>\n",
       "      <th>id</th>\n",
       "      <th>latitude</th>\n",
       "      <th>longitude</th>\n",
       "      <th>stationName</th>\n",
       "      <th>city</th>\n",
       "      <th>neighborhood</th>\n",
       "      <th>neighborhood_id</th>\n",
       "      <th>area</th>\n",
       "      <th>area_id</th>\n",
       "    </tr>\n",
       "  </thead>\n",
       "  <tbody>\n",
       "    <tr>\n",
       "      <th>0</th>\n",
       "      <td> 72</td>\n",
       "      <td> 40.767272</td>\n",
       "      <td>-73.993929</td>\n",
       "      <td> W 52 St &amp; 11 Ave</td>\n",
       "      <td> New York</td>\n",
       "      <td> All Midtown</td>\n",
       "      <td> 119</td>\n",
       "      <td> Midtown West</td>\n",
       "      <td> 124</td>\n",
       "    </tr>\n",
       "  </tbody>\n",
       "</table>\n",
       "</div>"
      ],
      "text/plain": [
       "   id   latitude  longitude       stationName      city neighborhood  \\\n",
       "0  72  40.767272 -73.993929  W 52 St & 11 Ave  New York  All Midtown   \n",
       "\n",
       "   neighborhood_id          area  area_id  \n",
       "0              119  Midtown West      124  "
      ]
     },
     "execution_count": 174,
     "metadata": {},
     "output_type": "execute_result"
    }
   ],
   "source": [
    "stations.get_by_id(72)"
   ]
  },
  {
   "cell_type": "code",
   "execution_count": 176,
   "metadata": {
    "collapsed": false
   },
   "outputs": [
    {
     "data": {
      "text/plain": [
       "u'Midtown West'"
      ]
     },
     "execution_count": 176,
     "metadata": {},
     "output_type": "execute_result"
    }
   ],
   "source": [
    "stations.get_by_id(72).area.item()"
   ]
  },
  {
   "cell_type": "markdown",
   "metadata": {},
   "source": [
    "\n",
    "### Loading Sample Citibike Trip Data"
   ]
  },
  {
   "cell_type": "code",
   "execution_count": 29,
   "metadata": {
    "collapsed": true
   },
   "outputs": [],
   "source": [
    "trip_data = pd.read_csv(\"../data/trip-data/sample.csv\")"
   ]
  },
  {
   "cell_type": "code",
   "execution_count": 38,
   "metadata": {
    "collapsed": false
   },
   "outputs": [
    {
     "data": {
      "text/plain": [
       "Index([u'tripduration', u'starttime', u'stoptime', u'start station id', u'start station name', u'start station latitude', u'start station longitude', u'end station id', u'end station name', u'end station latitude', u'end station longitude', u'bikeid', u'usertype', u'birth year', u'gender'], dtype='object')"
      ]
     },
     "execution_count": 38,
     "metadata": {},
     "output_type": "execute_result"
    }
   ],
   "source": [
    "trip_data.columns"
   ]
  },
  {
   "cell_type": "code",
   "execution_count": 30,
   "metadata": {
    "collapsed": false,
    "scrolled": true
   },
   "outputs": [
    {
     "data": {
      "text/html": [
       "<div style=\"max-height:1000px;max-width:1500px;overflow:auto;\">\n",
       "<table border=\"1\" class=\"dataframe\">\n",
       "  <thead>\n",
       "    <tr style=\"text-align: right;\">\n",
       "      <th></th>\n",
       "      <th>tripduration</th>\n",
       "      <th>starttime</th>\n",
       "      <th>stoptime</th>\n",
       "      <th>start station id</th>\n",
       "      <th>start station name</th>\n",
       "      <th>start station latitude</th>\n",
       "      <th>start station longitude</th>\n",
       "      <th>end station id</th>\n",
       "      <th>end station name</th>\n",
       "      <th>end station latitude</th>\n",
       "      <th>end station longitude</th>\n",
       "      <th>bikeid</th>\n",
       "      <th>usertype</th>\n",
       "      <th>birth year</th>\n",
       "      <th>gender</th>\n",
       "    </tr>\n",
       "  </thead>\n",
       "  <tbody>\n",
       "    <tr>\n",
       "      <th>0</th>\n",
       "      <td> 1346</td>\n",
       "      <td> 1/1/2015 0:01</td>\n",
       "      <td> 1/1/2015 0:24</td>\n",
       "      <td> 455</td>\n",
       "      <td>         1 Ave &amp; E 44 St</td>\n",
       "      <td> 40.750020</td>\n",
       "      <td>-73.969053</td>\n",
       "      <td> 265</td>\n",
       "      <td>    Stanton St &amp; Chrystie St</td>\n",
       "      <td> 40.722293</td>\n",
       "      <td>-73.991475</td>\n",
       "      <td> 18660</td>\n",
       "      <td> Subscriber</td>\n",
       "      <td> 1960</td>\n",
       "      <td> 2</td>\n",
       "    </tr>\n",
       "    <tr>\n",
       "      <th>1</th>\n",
       "      <td>  363</td>\n",
       "      <td> 1/1/2015 0:02</td>\n",
       "      <td> 1/1/2015 0:08</td>\n",
       "      <td> 434</td>\n",
       "      <td>         9 Ave &amp; W 18 St</td>\n",
       "      <td> 40.743174</td>\n",
       "      <td>-74.003664</td>\n",
       "      <td> 482</td>\n",
       "      <td>             W 15 St &amp; 7 Ave</td>\n",
       "      <td> 40.739355</td>\n",
       "      <td>-73.999318</td>\n",
       "      <td> 16085</td>\n",
       "      <td> Subscriber</td>\n",
       "      <td> 1963</td>\n",
       "      <td> 1</td>\n",
       "    </tr>\n",
       "    <tr>\n",
       "      <th>2</th>\n",
       "      <td>  346</td>\n",
       "      <td> 1/1/2015 0:04</td>\n",
       "      <td> 1/1/2015 0:10</td>\n",
       "      <td> 491</td>\n",
       "      <td>    E 24 St &amp; Park Ave S</td>\n",
       "      <td> 40.740964</td>\n",
       "      <td>-73.986022</td>\n",
       "      <td> 505</td>\n",
       "      <td>             6 Ave &amp; W 33 St</td>\n",
       "      <td> 40.749013</td>\n",
       "      <td>-73.988484</td>\n",
       "      <td> 20845</td>\n",
       "      <td> Subscriber</td>\n",
       "      <td> 1974</td>\n",
       "      <td> 1</td>\n",
       "    </tr>\n",
       "    <tr>\n",
       "      <th>3</th>\n",
       "      <td>  182</td>\n",
       "      <td> 1/1/2015 0:04</td>\n",
       "      <td> 1/1/2015 0:07</td>\n",
       "      <td> 384</td>\n",
       "      <td> Fulton St &amp; Waverly Ave</td>\n",
       "      <td> 40.683178</td>\n",
       "      <td>-73.965964</td>\n",
       "      <td> 399</td>\n",
       "      <td> Lafayette Ave &amp; St James Pl</td>\n",
       "      <td> 40.688515</td>\n",
       "      <td>-73.964763</td>\n",
       "      <td> 19610</td>\n",
       "      <td> Subscriber</td>\n",
       "      <td> 1969</td>\n",
       "      <td> 1</td>\n",
       "    </tr>\n",
       "    <tr>\n",
       "      <th>4</th>\n",
       "      <td>  969</td>\n",
       "      <td> 1/1/2015 0:05</td>\n",
       "      <td> 1/1/2015 0:21</td>\n",
       "      <td> 474</td>\n",
       "      <td>         5 Ave &amp; E 29 St</td>\n",
       "      <td> 40.745168</td>\n",
       "      <td>-73.986831</td>\n",
       "      <td> 432</td>\n",
       "      <td>           E 7 St &amp; Avenue A</td>\n",
       "      <td> 40.726218</td>\n",
       "      <td>-73.983799</td>\n",
       "      <td> 20197</td>\n",
       "      <td> Subscriber</td>\n",
       "      <td> 1977</td>\n",
       "      <td> 1</td>\n",
       "    </tr>\n",
       "  </tbody>\n",
       "</table>\n",
       "</div>"
      ],
      "text/plain": [
       "   tripduration      starttime       stoptime  start station id  \\\n",
       "0          1346  1/1/2015 0:01  1/1/2015 0:24               455   \n",
       "1           363  1/1/2015 0:02  1/1/2015 0:08               434   \n",
       "2           346  1/1/2015 0:04  1/1/2015 0:10               491   \n",
       "3           182  1/1/2015 0:04  1/1/2015 0:07               384   \n",
       "4           969  1/1/2015 0:05  1/1/2015 0:21               474   \n",
       "\n",
       "        start station name  start station latitude  start station longitude  \\\n",
       "0          1 Ave & E 44 St               40.750020               -73.969053   \n",
       "1          9 Ave & W 18 St               40.743174               -74.003664   \n",
       "2     E 24 St & Park Ave S               40.740964               -73.986022   \n",
       "3  Fulton St & Waverly Ave               40.683178               -73.965964   \n",
       "4          5 Ave & E 29 St               40.745168               -73.986831   \n",
       "\n",
       "   end station id             end station name  end station latitude  \\\n",
       "0             265     Stanton St & Chrystie St             40.722293   \n",
       "1             482              W 15 St & 7 Ave             40.739355   \n",
       "2             505              6 Ave & W 33 St             40.749013   \n",
       "3             399  Lafayette Ave & St James Pl             40.688515   \n",
       "4             432            E 7 St & Avenue A             40.726218   \n",
       "\n",
       "   end station longitude  bikeid    usertype  birth year  gender  \n",
       "0             -73.991475   18660  Subscriber        1960       2  \n",
       "1             -73.999318   16085  Subscriber        1963       1  \n",
       "2             -73.988484   20845  Subscriber        1974       1  \n",
       "3             -73.964763   19610  Subscriber        1969       1  \n",
       "4             -73.983799   20197  Subscriber        1977       1  "
      ]
     },
     "execution_count": 30,
     "metadata": {},
     "output_type": "execute_result"
    }
   ],
   "source": [
    "trip_data.head()"
   ]
  },
  {
   "cell_type": "markdown",
   "metadata": {},
   "source": [
    "### Obtain the Popular Stations"
   ]
  },
  {
   "cell_type": "markdown",
   "metadata": {},
   "source": [
    "This includes the number of times a station was either the source or destination in a trip taken."
   ]
  },
  {
   "cell_type": "code",
   "execution_count": 66,
   "metadata": {
    "collapsed": false
   },
   "outputs": [],
   "source": [
    "# Number of times a station was the start station.\n",
    "start_station_count = trip_data.groupby(\"start station id\").size()\n",
    "\n",
    "# Number of times a station was the end station.\n",
    "end_station_count = trip_data.groupby(\"end station id\").size()"
   ]
  },
  {
   "cell_type": "markdown",
   "metadata": {},
   "source": [
    "**create an interface to access station count in data given the station id**"
   ]
  },
  {
   "cell_type": "code",
   "execution_count": 72,
   "metadata": {
    "collapsed": false
   },
   "outputs": [],
   "source": [
    "def get_station_count(data, station_id):\n",
    "    return data[station_id] if station_id in data else 0"
   ]
  },
  {
   "cell_type": "code",
   "execution_count": 74,
   "metadata": {
    "collapsed": false
   },
   "outputs": [
    {
     "data": {
      "text/plain": [
       "57"
      ]
     },
     "execution_count": 74,
     "metadata": {},
     "output_type": "execute_result"
    }
   ],
   "source": [
    "get_station_count(start_station_count, 3002)"
   ]
  },
  {
   "cell_type": "markdown",
   "metadata": {},
   "source": [
    "**creating final station counts as a python dict**"
   ]
  },
  {
   "cell_type": "code",
   "execution_count": 101,
   "metadata": {
    "collapsed": true
   },
   "outputs": [],
   "source": [
    "station_counts = dict()"
   ]
  },
  {
   "cell_type": "code",
   "execution_count": 102,
   "metadata": {
    "collapsed": false
   },
   "outputs": [],
   "source": [
    "for station_id in stations.id:\n",
    "    station_counts[station_id] = get_station_count(start_station_count, station_id) + \\\n",
    "                                 get_station_count(end_station_count, station_id)"
   ]
  },
  {
   "cell_type": "code",
   "execution_count": 177,
   "metadata": {
    "collapsed": false
   },
   "outputs": [],
   "source": [
    "popular_stations = sorted(station_counts, key= lambda e: station_counts[e], reverse=True)"
   ]
  },
  {
   "cell_type": "code",
   "execution_count": 179,
   "metadata": {
    "collapsed": false
   },
   "outputs": [
    {
     "name": "stdout",
     "output_type": "stream",
     "text": [
      "293, East Village : 206\n",
      "285, East Village : 204\n",
      "497, Flatiron : 188\n",
      "504, Stuyvesant Town/PCV : 173\n",
      "382, Greenwich Village : 171\n",
      "521, Midtown West : 166\n",
      "499, Lincoln Square : 165\n",
      "435, Chelsea : 163\n",
      "284, West Village : 146\n",
      "509, Chelsea : 146\n"
     ]
    }
   ],
   "source": [
    "for station_id in popular_stations[:10]:\n",
    "    info = stations.get_by_id(station_id=station_id)\n",
    "    area = info.area.item()\n",
    "    print `station_id` + \", \" + area + \" : \" + `station_counts[station_id]`"
   ]
  },
  {
   "cell_type": "code",
   "execution_count": 162,
   "metadata": {
    "collapsed": false
   },
   "outputs": [
    {
     "data": {
      "text/plain": [
       "<Container object of 508 artists>"
      ]
     },
     "execution_count": 162,
     "metadata": {},
     "output_type": "execute_result"
    },
    {
     "data": {
      "image/png": "[encoded data removed]",
      "text/plain": [
       "<matplotlib.figure.Figure at 0x7f07b32fc550>"
      ]
     },
     "metadata": {},
     "output_type": "display_data"
    }
   ],
   "source": [
    "plt.bar(popular_stations, [station_counts[id] for id in popular_stations])"
   ]
  }
 ],
 "metadata": {
  "kernelspec": {
   "display_name": "Python 2",
   "language": "python",
   "name": "python2"
  },
  "language_info": {
   "codemirror_mode": {
    "name": "ipython",
    "version": 2
   },
   "file_extension": ".py",
   "mimetype": "text/x-python",
   "name": "python",
   "nbconvert_exporter": "python",
   "pygments_lexer": "ipython2",
   "version": "2.7.10"
  }
 },
 "nbformat": 4,
 "nbformat_minor": 0
}
